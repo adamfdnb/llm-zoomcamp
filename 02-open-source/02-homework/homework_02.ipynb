{
 "cells": [
  {
   "cell_type": "markdown",
   "id": "07796f09-8984-48db-8560-ca62c6aecddd",
   "metadata": {},
   "source": [
    "#### Question 1. Running Ollama with Docker. What's the version?"
   ]
  },
  {
   "cell_type": "code",
   "execution_count": 10,
   "id": "49a74e7b-a150-4fb1-8906-ce37a7ff62cc",
   "metadata": {},
   "outputs": [
    {
     "name": "stdout",
     "output_type": "stream",
     "text": [
      "ollama version is 0.1.48\n"
     ]
    }
   ],
   "source": [
    "!ollama -v"
   ]
  },
  {
   "cell_type": "markdown",
   "id": "89de19d9-fe34-40ca-ac0d-b6c0f7e68190",
   "metadata": {},
   "source": [
    "#### Question 2. Downloading an LLM. Manifest file "
   ]
  },
  {
   "cell_type": "code",
   "execution_count": 11,
   "id": "ab9df18f-49fc-44b9-a19e-a47ea2f548d3",
   "metadata": {},
   "outputs": [
    {
     "name": "stdout",
     "output_type": "stream",
     "text": [
      "/bin/bash: line 0: cd: /root/.ollama/models/manifests/registry.ollama.ai/library/gemma: Permission denied\n"
     ]
    }
   ],
   "source": [
    "!cd /root/.ollama/models/manifests/registry.ollama.ai/library/gemma"
   ]
  },
  {
   "cell_type": "code",
   "execution_count": 12,
   "id": "2b8a423d-382d-43b0-9a5f-72390c2f4257",
   "metadata": {},
   "outputs": [
    {
     "name": "stdout",
     "output_type": "stream",
     "text": [
      "chown: cannot access '/root/.ollama/models/manifests/registry.ollama.ai/library/gemma': No such file or directory\n"
     ]
    }
   ],
   "source": [
    "!sudo chown $USER /root/.ollama/models/manifests/registry.ollama.ai/library/gemma"
   ]
  },
  {
   "cell_type": "code",
   "execution_count": 13,
   "id": "c7ed638a-95e8-4a76-903f-f22601f36a30",
   "metadata": {},
   "outputs": [
    {
     "name": "stdout",
     "output_type": "stream",
     "text": [
      "/bin/bash: line 0: cd: /root/.ollama/models/manifests/registry.ollama.ai/library: Permission denied\n"
     ]
    }
   ],
   "source": [
    "!cd /root/.ollama/models/manifests/registry.ollama.ai/library"
   ]
  },
  {
   "cell_type": "code",
   "execution_count": 14,
   "id": "eed2be49-3c18-4e6f-947b-51df6ead5dc1",
   "metadata": {},
   "outputs": [
    {
     "name": "stdout",
     "output_type": "stream",
     "text": [
      "chown: cannot access '/root/.ollama/models/manifests/registry.ollama.ai/library': No such file or directory\n"
     ]
    }
   ],
   "source": [
    "!sudo chown $USER /root/.ollama/models/manifests/registry.ollama.ai/library"
   ]
  },
  {
   "cell_type": "code",
   "execution_count": 17,
   "id": "740c7ad9-cfe4-4c83-8a48-9a936add4911",
   "metadata": {},
   "outputs": [
    {
     "name": "stdout",
     "output_type": "stream",
     "text": [
      "/bin/bash: line 0: cd: /root/.ollama: Permission denied\n"
     ]
    }
   ],
   "source": [
    "!cd /root/.ollama"
   ]
  },
  {
   "cell_type": "code",
   "execution_count": null,
   "id": "7b0c0627-bd4e-4852-b0f3-c567ffd742a8",
   "metadata": {},
   "outputs": [],
   "source": []
  },
  {
   "cell_type": "code",
   "execution_count": null,
   "id": "da795f38-b5f9-4a26-b07e-b691a09024d3",
   "metadata": {},
   "outputs": [],
   "source": []
  },
  {
   "cell_type": "code",
   "execution_count": null,
   "id": "bada4f71-3015-40fd-8361-2130e499c314",
   "metadata": {},
   "outputs": [],
   "source": []
  },
  {
   "cell_type": "code",
   "execution_count": null,
   "id": "d79c7876-5924-446f-9d04-c2b89888f7cb",
   "metadata": {},
   "outputs": [],
   "source": []
  },
  {
   "cell_type": "code",
   "execution_count": null,
   "id": "506fab2a-a50c-42bd-a106-c83a9d2828ea",
   "metadata": {},
   "outputs": [],
   "source": [
    "!rm -f minsearch.py\n",
    "!wget https://raw.githubusercontent.com/alexeygrigorev/minsearch/main/minsearch.py"
   ]
  },
  {
   "cell_type": "code",
   "execution_count": 3,
   "id": "3ac947de-effd-4b61-8792-a6d7a133f347",
   "metadata": {},
   "outputs": [
    {
     "data": {
      "text/plain": [
       "<minsearch.Index at 0x7be70b6a22f0>"
      ]
     },
     "execution_count": 3,
     "metadata": {},
     "output_type": "execute_result"
    }
   ],
   "source": [
    "import requests \n",
    "import minsearch\n",
    "\n",
    "docs_url = 'https://github.com/DataTalksClub/llm-zoomcamp/blob/main/01-intro/documents.json?raw=1'\n",
    "docs_response = requests.get(docs_url)\n",
    "documents_raw = docs_response.json()\n",
    "\n",
    "documents = []\n",
    "\n",
    "for course in documents_raw:\n",
    "    course_name = course['course']\n",
    "\n",
    "    for doc in course['documents']:\n",
    "        doc['course'] = course_name\n",
    "        documents.append(doc)\n",
    "\n",
    "index = minsearch.Index(\n",
    "    text_fields=[\"question\", \"text\", \"section\"],\n",
    "    keyword_fields=[\"course\"]\n",
    ")\n",
    "\n",
    "index.fit(documents)"
   ]
  },
  {
   "cell_type": "code",
   "execution_count": 4,
   "id": "8f087272-b44d-4738-9ea2-175ec63a058b",
   "metadata": {},
   "outputs": [],
   "source": [
    "def search(query):\n",
    "    boost = {'question': 3.0, 'section': 0.5}\n",
    "\n",
    "    results = index.search(\n",
    "        query=query,\n",
    "        filter_dict={'course': 'data-engineering-zoomcamp'},\n",
    "        boost_dict=boost,\n",
    "        num_results=3\n",
    "    )\n",
    "\n",
    "    return results"
   ]
  },
  {
   "cell_type": "code",
   "execution_count": 5,
   "id": "742ab881-499a-4675-83c4-2013ea1377b9",
   "metadata": {},
   "outputs": [],
   "source": [
    "def build_prompt(query, search_results):\n",
    "    prompt_template = \"\"\"\n",
    "You're a course teaching assistant. Answer the QUESTION based on the CONTEXT from the FAQ database.\n",
    "Use only the facts from the CONTEXT when answering the QUESTION.\n",
    "\n",
    "QUESTION: {question}\n",
    "\n",
    "CONTEXT: \n",
    "{context}\n",
    "\"\"\".strip()\n",
    "\n",
    "    context = \"\"\n",
    "    \n",
    "    for doc in search_results:\n",
    "        context = context + f\"section: {doc['section']}\\nquestion: {doc['question']}\\nanswer: {doc['text']}\\n\\n\"\n",
    "    \n",
    "    prompt = prompt_template.format(question=query, context=context).strip()\n",
    "    return prompt\n",
    "\n",
    "def llm(prompt):\n",
    "    response = client.chat.completions.create(\n",
    "        model='gemma:2b',\n",
    "        messages=[{\"role\": \"user\", \"content\": prompt}]\n",
    "    )\n",
    "    \n",
    "    return response.choices[0].message.content\n"
   ]
  },
  {
   "cell_type": "code",
   "execution_count": 6,
   "id": "fe8bff3e-b672-42be-866b-f2d9bb217106",
   "metadata": {},
   "outputs": [],
   "source": [
    "def rag(query):\n",
    "    search_results = search(query)\n",
    "    prompt = build_prompt(query, search_results)\n",
    "    answer = llm(prompt)\n",
    "    return answer"
   ]
  },
  {
   "cell_type": "code",
   "execution_count": 7,
   "id": "988ece59-951a-4b32-ba3f-cb8efb66a9bb",
   "metadata": {},
   "outputs": [],
   "source": [
    "from openai import OpenAI\n",
    "\n",
    "client = OpenAI(\n",
    "    base_url='http://localhost:11434/v1/',\n",
    "    api_key='ollama',\n",
    ")"
   ]
  },
  {
   "cell_type": "code",
   "execution_count": 8,
   "id": "3828bb86-9cf1-47e4-92f5-d710de93fbc7",
   "metadata": {},
   "outputs": [
    {
     "data": {
      "text/plain": [
       "'The code you provided is a simple Python program that calculates 10 multiplied by 10.\\n\\n```python\\n10 * 10\\n```\\n\\n**Output:**\\n\\n```\\n100\\n```\\n\\n**Explanation:**\\n\\n* The `10 * 10` expression performs the multiplication of 10 by 10, which is 100.\\n* The `start_of_turn` and `end_of_turn` markers are used to indicate the start and end of a block of code.\\n* The code is valid Python syntax and will execute the program as intended.'"
      ]
     },
     "execution_count": 8,
     "metadata": {},
     "output_type": "execute_result"
    }
   ],
   "source": [
    "llm('10 * 10')"
   ]
  },
  {
   "cell_type": "code",
   "execution_count": 9,
   "id": "338d3694-418c-40a1-b5ff-4539a7d5eae1",
   "metadata": {},
   "outputs": [
    {
     "name": "stdout",
     "output_type": "stream",
     "text": [
      "The code you provided is a simple Python program that calculates 10 multiplied by 10.\n",
      "\n",
      "```python\n",
      "10 * 10\n",
      "```\n",
      "\n",
      "**Output:**\n",
      "\n",
      "```\n",
      "100\n",
      "```\n",
      "\n",
      "**Explanation:**\n",
      "\n",
      "* The `10 * 10` expression performs the multiplication of 10 by 10, which is 100.\n",
      "* The `start_of_turn` and `end_of_turn` markers are used to indicate the start and end of a block of code.\n",
      "* The code is valid Python syntax and will execute the program as intended.\n"
     ]
    }
   ],
   "source": [
    "print(_)"
   ]
  }
 ],
 "metadata": {
  "kernelspec": {
   "display_name": "Python 3 (ipykernel)",
   "language": "python",
   "name": "python3"
  },
  "language_info": {
   "codemirror_mode": {
    "name": "ipython",
    "version": 3
   },
   "file_extension": ".py",
   "mimetype": "text/x-python",
   "name": "python",
   "nbconvert_exporter": "python",
   "pygments_lexer": "ipython3",
   "version": "3.10.13"
  }
 },
 "nbformat": 4,
 "nbformat_minor": 5
}
