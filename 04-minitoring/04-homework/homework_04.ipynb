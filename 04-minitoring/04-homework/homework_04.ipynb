{
 "cells": [
  {
   "cell_type": "markdown",
   "id": "7decf385-be58-4870-ad71-4d583465fba9",
   "metadata": {},
   "source": [
    "### 04-Homework: Evaluation and Monitoring \n",
    "*In this homework, we'll evaluate the quality of our RAG system.*\n"
   ]
  },
  {
   "cell_type": "markdown",
   "id": "1f7a6ae2-118a-483d-bf78-63962c63fb7b",
   "metadata": {},
   "source": [
    "Getting the data\n",
    "\n",
    "Let's start by getting the dataset. We will use the data we generated in the module.\n",
    "In particular, we'll evaluate the quality of our RAG system with ```gpt-4o-mini```\n",
    "\n",
    "Read it:\n",
    "```python\n",
    "url = f'{github_url}?raw=1'\n",
    "df = pd.read_csv(url)\n",
    "```\n",
    "We will use only the first 300 documents:\n",
    "```python\n",
    "df = df.iloc[:300]\n",
    "```"
   ]
  },
  {
   "cell_type": "code",
   "execution_count": 1,
   "id": "8ae8c458-5b92-4dc8-921f-447a49ae62d8",
   "metadata": {},
   "outputs": [],
   "source": [
    "import pandas as pd\n",
    "\n",
    "base_url = 'https://github.com/DataTalksClub/llm-zoomcamp/blob/main'\n",
    "relative_url = '04-monitoring/data/results-gpt4o-mini.csv'\n",
    "docs_url = f'{base_url}/{relative_url}?raw=1'\n",
    "\n",
    "url = f'{docs_url}?raw=1'\n",
    "df = pd.read_csv(url)"
   ]
  },
  {
   "cell_type": "code",
   "execution_count": 2,
   "id": "a81edb55-e24e-4b6c-82c2-68f70375a101",
   "metadata": {},
   "outputs": [],
   "source": [
    "df = df.iloc[:300]"
   ]
  },
  {
   "cell_type": "code",
   "execution_count": 4,
   "id": "c6981799-91ab-4f24-9dc0-d8a971b271a6",
   "metadata": {
    "scrolled": true
   },
   "outputs": [
    {
     "data": {
      "text/plain": [
       "answer_llm     Yes, all sessions are recorded, so if you miss...\n",
       "answer_orig    Everything is recorded, so you won’t miss anyt...\n",
       "document                                                5170565b\n",
       "question                    Are sessions recorded if I miss one?\n",
       "course                                 machine-learning-zoomcamp\n",
       "Name: 10, dtype: object"
      ]
     },
     "execution_count": 4,
     "metadata": {},
     "output_type": "execute_result"
    }
   ],
   "source": [
    "df.iloc[10]"
   ]
  },
  {
   "cell_type": "markdown",
   "id": "55d4672b-6b8f-42e7-8d1a-97e9b3786e80",
   "metadata": {},
   "source": [
    "#### Q1. Getting the embeddings model\n",
    "\n",
    "Now, get the embeddings model ```multi-qa-mpnet-base-dot-v1``` from the Sentence Transformer library<br>\n",
    "*Note: this is not the same model as in HW3*\n",
    "\n",
    "```python\n",
    "from sentence_transformers import SentenceTransformer\n",
    "embedding_model = SentenceTransformer(model_name)\n",
    "```\n",
    "Create the embeddings for the first LLM answer:\n",
    "```python\n",
    "answer_llm = df.iloc[0].answer_llm\n",
    "```\n",
    "What's the first value of the resulting vector?\n",
    "\n",
    "-  [x] -0.42\n"
   ]
  },
  {
   "cell_type": "code",
   "execution_count": 3,
   "id": "b90d940e-ef2b-4da6-baee-ec0337fb9705",
   "metadata": {},
   "outputs": [
    {
     "name": "stderr",
     "output_type": "stream",
     "text": [
      "You try to use a model that was created with version 3.0.0.dev0, however, your version is 2.7.0. This might cause unexpected behavior or errors. In that case, try to update to the latest version.\n",
      "\n",
      "\n",
      "\n"
     ]
    }
   ],
   "source": [
    "from sentence_transformers import SentenceTransformer\n",
    "\n",
    "model_name = 'multi-qa-mpnet-base-dot-v1'\n",
    "model = SentenceTransformer(model_name)"
   ]
  },
  {
   "cell_type": "code",
   "execution_count": 4,
   "id": "676a090a-6d60-4456-bbed-e80ce277c6b4",
   "metadata": {},
   "outputs": [],
   "source": [
    "answer_llm = df.iloc[0].answer_llm"
   ]
  },
  {
   "cell_type": "code",
   "execution_count": 5,
   "id": "2b85e135-7834-4745-a7df-d9fc3613bcd1",
   "metadata": {},
   "outputs": [],
   "source": [
    "v = model.encode(answer_llm)"
   ]
  },
  {
   "cell_type": "code",
   "execution_count": 8,
   "id": "979e6dcd-675c-4533-b130-d7e60e3ff9db",
   "metadata": {},
   "outputs": [
    {
     "name": "stdout",
     "output_type": "stream",
     "text": [
      "-0.42244655\n"
     ]
    }
   ],
   "source": [
    "first_value = v[0]\n",
    "print(first_value)"
   ]
  },
  {
   "cell_type": "markdown",
   "id": "76138174-c518-4bf7-8340-3bed98d77006",
   "metadata": {},
   "source": [
    "#### Q2. Computing the dot product\n",
    "\n",
    "Now for each answer pair, let's create embeddings and compute ```dot```product between them\n",
    "\n",
    "We will put the results (scores) into the ```evaluations``` list\n",
    "\n",
    "What's the 75% percentile of the score?\n",
    "\n",
    "- [x] 31.67\n"
   ]
  },
  {
   "cell_type": "code",
   "execution_count": 13,
   "id": "b328f4dd-97ae-4be7-a2ee-c25d79f49211",
   "metadata": {},
   "outputs": [],
   "source": [
    "import numpy as np\n",
    "\n",
    "evaluations = []\n",
    "\n",
    "for _, row in df.iterrows():\n",
    "    answer_llm_embedding = model.encode(row.answer_llm)\n",
    "    answer_human_embedding = model.encode(row.answer_orig)\n",
    "\n",
    "    dot_product = np.dot(answer_llm_embedding, answer_human_embedding)\n",
    "    evaluations.append(dot_product)"
   ]
  },
  {
   "cell_type": "code",
   "execution_count": 14,
   "id": "b9859182-f6c1-4982-ba2e-90e7cbd069d4",
   "metadata": {},
   "outputs": [
    {
     "name": "stdout",
     "output_type": "stream",
     "text": [
      "31.67430877685547\n"
     ]
    }
   ],
   "source": [
    "percentile_75 = np.percentile(evaluations, 75)\n",
    "print(percentile_75)"
   ]
  },
  {
   "cell_type": "markdown",
   "id": "f377b5ce-f20a-4a66-bcb8-114e32009357",
   "metadata": {},
   "source": [
    "#### Q3. Computing the cosine\n",
    "\n",
    "From Q2, we can see that the results are not within the [0, 1] range. It's because the vectors coming from this model are not normalized.\n",
    "\n",
    "So we need to normalize them.\n",
    "\n",
    "To do it, we\n",
    "\n",
    "    Compute the norm of a vector\n",
    "    Divide each element by this norm\n",
    "\n",
    "So, for vector v, it'll be v / ||v||\n",
    "\n",
    "In numpy, this is how you do it:\n",
    "\n",
    "```python\n",
    "norm = np.sqrt((v * v).sum())\n",
    "v_norm = v / norm\n",
    "```\n",
    "\n",
    "Let's put it into a function and then compute dot product between normalized vectors. This will give us cosine similarity\n",
    "\n",
    "What's the 75% cosine in the scores?\n",
    "\n",
    "- [x] 0.83\n",
    "\n"
   ]
  },
  {
   "cell_type": "code",
   "execution_count": 35,
   "id": "139ddc0b-171f-4a6f-b0ed-7a4e5381d583",
   "metadata": {},
   "outputs": [],
   "source": [
    "def normalize_vector(v):\n",
    "    norm = np.sqrt((v * v).sum())\n",
    "    v_norm = v / norm\n",
    "    return v_norm"
   ]
  },
  {
   "cell_type": "code",
   "execution_count": 16,
   "id": "c747e4e3-7998-461d-b5d6-1bf0a847d99b",
   "metadata": {},
   "outputs": [],
   "source": [
    "evaluations = []\n",
    "\n",
    "for _, row in df.iterrows():\n",
    "    answer_llm_embedding = model.encode(row.answer_llm)\n",
    "    answer_human_embedding = model.encode(row.answer_orig)\n",
    "\n",
    "    answer_llm_embedding_norm = normalize_vector(answer_llm_embedding)\n",
    "    answer_human_embedding_norm = normalize_vector(answer_human_embedding)\n",
    "\n",
    "    cosine_similarity = np.dot(answer_llm_embedding_norm, answer_human_embedding_norm)\n",
    "    evaluations.append(cosine_similarity)"
   ]
  },
  {
   "cell_type": "code",
   "execution_count": 17,
   "id": "55952ce7-ea53-4729-ba7e-1995fa3f3916",
   "metadata": {},
   "outputs": [
    {
     "name": "stdout",
     "output_type": "stream",
     "text": [
      "0.8362348973751068\n"
     ]
    }
   ],
   "source": [
    "percentile_75 = np.percentile(evaluations, 75)\n",
    "print(percentile_75)"
   ]
  },
  {
   "cell_type": "markdown",
   "id": "63dd2179-de3c-487b-a1d5-177aab96a917",
   "metadata": {},
   "source": [
    "#### Q4. Rouge\n",
    "\n",
    "Now we will explore an alternative metric - the ROUGE score.\n",
    "This is a set of metrics that compares two answers based on the overlap of n-grams, word sequences, and word pairs.\n",
    "It can give a more nuanced view of text similarity than just cosine similarity alone.\n",
    "We don't need to implement it ourselves, there's a python package for it:\n",
    "\n",
    "```python\n",
    "pip install rouge\n",
    "```\n",
    "(The latest version at the moment of writing is 1.0.1)\n",
    "\n",
    "Let's compute the ROUGE score between the answers at the index 10 of our dataframe (doc_id=5170565b)\n",
    "\n",
    "```python\n",
    "from rouge import Rouge\n",
    "rouge_scorer = Rouge()\n",
    "```\n",
    "```python\n",
    "scores = rouge_scorer.get_scores(r['answer_llm'], r['answer_orig'])[0]\n",
    "```\n",
    "\n",
    "There are three scores: rouge-1, rouge-2 and rouge-l, and precision, recall and F1 score for each.\n",
    "\n",
    "    rouge-1 - the overlap of unigrams,\n",
    "    rouge-2 - bigrams,\n",
    "    rouge-l - the longest common subsequence\n",
    "\n",
    "What's the F score for rouge-1?\n",
    "\n",
    "- [x] 0.45\n"
   ]
  },
  {
   "cell_type": "code",
   "execution_count": 18,
   "id": "568503b2-11d8-43cf-83b1-e3914285f162",
   "metadata": {},
   "outputs": [],
   "source": [
    "from rouge import Rouge"
   ]
  },
  {
   "cell_type": "code",
   "execution_count": 19,
   "id": "43874823-daf6-4e50-8441-bee718e0f0ef",
   "metadata": {},
   "outputs": [],
   "source": [
    "rouge_scorer = Rouge()"
   ]
  },
  {
   "cell_type": "code",
   "execution_count": 20,
   "id": "8e01be54-f3c3-45b4-9bb6-4f1ed10f9639",
   "metadata": {},
   "outputs": [],
   "source": [
    "r = df.iloc[10]"
   ]
  },
  {
   "cell_type": "code",
   "execution_count": 21,
   "id": "52e62818-e39b-4497-a0b5-594a092fb39f",
   "metadata": {},
   "outputs": [
    {
     "data": {
      "text/plain": [
       "answer_llm     Yes, all sessions are recorded, so if you miss...\n",
       "answer_orig    Everything is recorded, so you won’t miss anyt...\n",
       "document                                                5170565b\n",
       "question                    Are sessions recorded if I miss one?\n",
       "course                                 machine-learning-zoomcamp\n",
       "Name: 10, dtype: object"
      ]
     },
     "execution_count": 21,
     "metadata": {},
     "output_type": "execute_result"
    }
   ],
   "source": [
    "r"
   ]
  },
  {
   "cell_type": "code",
   "execution_count": 22,
   "id": "f2195840-2a49-4e1f-a7a7-9e5a9199177b",
   "metadata": {},
   "outputs": [],
   "source": [
    "scores = rouge_scorer.get_scores(r['answer_llm'], r['answer_orig'])[0]"
   ]
  },
  {
   "cell_type": "code",
   "execution_count": 23,
   "id": "09097027-13bf-46c9-afe9-115284e1a7a8",
   "metadata": {},
   "outputs": [
    {
     "name": "stdout",
     "output_type": "stream",
     "text": [
      "0.45454544954545456\n"
     ]
    }
   ],
   "source": [
    "f_score_rouge1 = scores['rouge-1']['f']\n",
    "print(f_score_rouge1)"
   ]
  },
  {
   "cell_type": "markdown",
   "id": "13de2497-fa95-4a57-a6f4-8b3c8bfb3b35",
   "metadata": {},
   "source": [
    "#### Q5. Average rouge score\n",
    "\n",
    "Let's compute the average between *rouge-1, rouge-2* and *rouge-l* for the same record from Q4\n",
    "\n",
    "- [x] 0.35"
   ]
  },
  {
   "cell_type": "code",
   "execution_count": 26,
   "id": "93a7ad4a-decf-4edd-9860-c714e30a87c2",
   "metadata": {},
   "outputs": [
    {
     "name": "stdout",
     "output_type": "stream",
     "text": [
      "0.35490034990035496\n"
     ]
    }
   ],
   "source": [
    "average_rouge_score = (f_score_rouge1 + f_score_rouge2 + f_score_rougel) / 3\n",
    "print(average_rouge_score)"
   ]
  },
  {
   "cell_type": "markdown",
   "id": "2554ef52-39f4-42e4-89b8-f491e0298c89",
   "metadata": {},
   "source": [
    "#### Q6. Average rouge score for all the data points\n",
    "\n",
    "Now let's compute the score for all the records\n",
    "\n",
    "```python\n",
    "rouge_1 = scores['rouge-1']['f']\n",
    "rouge_2 = scores['rouge-2']['f']\n",
    "rouge_l = scores['rouge-l']['f']\n",
    "rouge_avg = (rouge_1 + rouge_2 + rouge_l) / 3\n",
    "```\n",
    "\n",
    "And create a dataframe from them\n",
    "\n",
    "What's the agerage rouge_2 across all the records?\n",
    "\n",
    "-  [x] 0.20 "
   ]
  },
  {
   "cell_type": "code",
   "execution_count": 28,
   "id": "96a26354-7aaf-45b2-add0-1189b758881f",
   "metadata": {},
   "outputs": [
    {
     "name": "stdout",
     "output_type": "stream",
     "text": [
      "0.20696501983423318\n"
     ]
    }
   ],
   "source": [
    "for _, row in df.iterrows():\n",
    "    scores = rouge_scorer.get_scores(row['answer_llm'], row['answer_orig'])[0]\n",
    "    \n",
    "    rouge_1 = scores['rouge-1']['f']\n",
    "    rouge_2 = scores['rouge-2']['f']\n",
    "    rouge_l = scores['rouge-l']['f']\n",
    "    rouge_avg = (rouge_1 + rouge_2 + rouge_l) / 3\n",
    "    \n",
    "    rouge_1_scores.append(rouge_1)\n",
    "    rouge_2_scores.append(rouge_2)\n",
    "    rouge_l_scores.append(rouge_l)\n",
    "    rouge_avg_scores.append(rouge_avg)\n",
    "\n",
    "rouge_scores_df = pd.DataFrame({\n",
    "    'rouge_1': rouge_1_scores,\n",
    "    'rouge_2': rouge_2_scores,\n",
    "    'rouge_l': rouge_l_scores,\n",
    "    'rouge_avg': rouge_avg_scores\n",
    "})\n",
    "\n",
    "average_rouge_2 = rouge_scores_df['rouge_2'].mean()\n",
    "print(average_rouge_2)"
   ]
  },
  {
   "cell_type": "code",
   "execution_count": 34,
   "id": "a53136dc-8d0a-42cc-95f4-5d3c892e1351",
   "metadata": {},
   "outputs": [
    {
     "data": {
      "image/png": "[encoded data removed]",
      "text/plain": [
       "<Figure size 800x600 with 1 Axes>"
      ]
     },
     "metadata": {},
     "output_type": "display_data"
    }
   ],
   "source": [
    "import matplotlib.pyplot as plt\n",
    "\n",
    "plt.figure(figsize=(8, 6))\n",
    "plt.bar(rouge_scores_df.columns, rouge_scores_df.mean())\n",
    "plt.xlabel('ROUGE metric')\n",
    "plt.ylabel('Average value')\n",
    "plt.title('Average values of ROUGE metrics')\n",
    "plt.ylim(0, 0.5) \n",
    "plt.show()"
   ]
  }
 ],
 "metadata": {
  "kernelspec": {
   "display_name": "Python 3 (ipykernel)",
   "language": "python",
   "name": "python3"
  },
  "language_info": {
   "codemirror_mode": {
    "name": "ipython",
    "version": 3
   },
   "file_extension": ".py",
   "mimetype": "text/x-python",
   "name": "python",
   "nbconvert_exporter": "python",
   "pygments_lexer": "ipython3",
   "version": "3.10.13"
  }
 },
 "nbformat": 4,
 "nbformat_minor": 5
}
